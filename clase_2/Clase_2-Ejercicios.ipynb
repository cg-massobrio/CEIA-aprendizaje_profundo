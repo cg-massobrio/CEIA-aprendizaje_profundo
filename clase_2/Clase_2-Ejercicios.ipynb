{
 "cells": [
  {
   "cell_type": "markdown",
   "id": "638fb9c1",
   "metadata": {},
   "source": [
    "# Ejercicios clase 2: Stochastic Gradient Descent\n",
    "\n",
    "## Ejercicio 1: SGD para encontrar el mínimo de una función\n",
    "Se implenta en Python un algoritmo basado en SGD para encontrar numéricamente el mínimo de la función,\n",
    "\n",
    "$$ y = -(x - 2)^2 -3 $$\n",
    "\n",
    "Se trata de un polinomio de segundo grado que puede reescribir como,\n",
    "\n",
    "$$ y = -x^2 + 4x -1 $$\n",
    "\n",
    "Se pretende encontrar el máximo valor encontrado por el algoritmo y para qué valor de x, cómo así también en qué momento se detuvo el proceso. \n",
    "\n",
    "El algoritmo de minimización _gradient descent_ consiste en actualizar cada valor de $x$ mediante el algoritmo,\n",
    "\n",
    "$$ x_{t+1} = x_t - \\alpha \\nabla_{y}(x) $$\n",
    "\n",
    "siendo $\\alpha$ el valor de _learning rate_. Este debe ser chico para que los pasos sean pequeños y evaluar el gradiente en entornos alrededor del punto en estudio. El proceso termina cuando $dy/dx \\thickapprox0$.\n",
    "\n",
    "La cuestión es decidir el punto inicial de evaluación. Se generan valores valores random de valores iniciales $x_0$ y se observa el mejor resultado. De esta forma, los hiperparámetros son:\n",
    "\n",
    "- El punto inicial $x_0$\n",
    "- El valor del learning rate."
   ]
  },
  {
   "cell_type": "markdown",
   "id": "0579fc2d",
   "metadata": {},
   "source": [
    "## Librerías necesarias"
   ]
  },
  {
   "cell_type": "code",
   "execution_count": 1,
   "id": "26a43a13",
   "metadata": {},
   "outputs": [],
   "source": [
    "import numpy as np\n",
    "import matplotlib.pyplot as plt\n",
    "import decimal"
   ]
  },
  {
   "cell_type": "markdown",
   "id": "ace1d250",
   "metadata": {},
   "source": [
    "Se define la función para hallar el valor de $x$ que hace mínimo a $y$ empleando SGD"
   ]
  },
  {
   "cell_type": "code",
   "execution_count": 2,
   "id": "fa2f2a5f",
   "metadata": {},
   "outputs": [],
   "source": [
    "def x_min_sgd(x_0, lr, epochs):\n",
    "    '''\n",
    "    x_0: valor inicial de x\n",
    "    lr: learning rate\n",
    "    epochs: número máximo de iteraciones\n",
    "    '''\n",
    "    i = 1\n",
    "    i_min = 0\n",
    "    x = x_0\n",
    "    for i in range(epochs):\n",
    "        dydx = -2*x + 4\n",
    "        if dydx == 0.001:\n",
    "            x_min = x\n",
    "            i_min = i \n",
    "            break\n",
    "        x = x - lr*dydx\n",
    "        i += 1\n",
    "\n",
    "    if i_min!=0:\n",
    "        print(f'Se obtuvo el mínimo en x = {x_min:.2f} con x_0 = {x_0:.2f} en la iteración {i_min}')\n",
    "        return x_min, i_min\n",
    "    else:\n",
    "        print(f'El valor obtenido en x = {x:.2f} con x_0 = {x_0:.2f} corresponde al máximo de iteraciones {i}')\n",
    "        return x, i"
   ]
  },
  {
   "cell_type": "code",
   "execution_count": 3,
   "id": "8db8cece",
   "metadata": {},
   "outputs": [],
   "source": [
    "#Valores iniciales de prueba, random con distribución uniforme\n",
    "rng = np.random.default_rng(32)\n",
    "x_0 = rng.uniform(-1,5,10)\n",
    "#Learning rate\n",
    "lr = 0.001\n",
    "#Iteraciones\n",
    "iterations = 1000"
   ]
  },
  {
   "cell_type": "code",
   "execution_count": 4,
   "id": "e26d8990",
   "metadata": {},
   "outputs": [
    {
     "name": "stdout",
     "output_type": "stream",
     "text": [
      "El valor obtenido en x = -13.03 con x_0 = -0.04 corresponde al máximo de iteraciones 1000\n",
      "El valor obtenido en x = 5.20 con x_0 = 2.43 corresponde al máximo de iteraciones 1000\n",
      "El valor obtenido en x = -3.44 con x_0 = 1.26 corresponde al máximo de iteraciones 1000\n",
      "El valor obtenido en x = -5.83 con x_0 = 0.94 corresponde al máximo de iteraciones 1000\n",
      "El valor obtenido en x = 10.26 con x_0 = 3.12 corresponde al máximo de iteraciones 1000\n",
      "El valor obtenido en x = 22.89 con x_0 = 4.83 corresponde al máximo de iteraciones 1000\n",
      "El valor obtenido en x = 22.66 con x_0 = 4.80 corresponde al máximo de iteraciones 1000\n",
      "El valor obtenido en x = 9.58 con x_0 = 3.03 corresponde al máximo de iteraciones 1000\n",
      "El valor obtenido en x = 16.61 con x_0 = 3.98 corresponde al máximo de iteraciones 1000\n",
      "El valor obtenido en x = 0.22 con x_0 = 1.76 corresponde al máximo de iteraciones 1000\n"
     ]
    }
   ],
   "source": [
    "result = []\n",
    "for i in range(len(x_0)):\n",
    "    result.append(x_min_sgd(x_0[i], lr, iterations))"
   ]
  },
  {
   "cell_type": "markdown",
   "id": "8f13d3b9",
   "metadata": {},
   "source": [
    "En todos los casos evaluados, ocurre que no se encuentra un mínimo. Eso pasa porque la función evaluada no tiene mínimos locales y el mínimo global se encuentra en el infinito. Se muestra en la siguiente gráfica"
   ]
  },
  {
   "cell_type": "code",
   "execution_count": 5,
   "id": "3a63d7ae",
   "metadata": {},
   "outputs": [
    {
     "data": {
      "image/png": "[encoded data removed]",
      "text/plain": [
       "<Figure size 432x288 with 1 Axes>"
      ]
     },
     "metadata": {
      "needs_background": "light"
     },
     "output_type": "display_data"
    }
   ],
   "source": [
    "X_1 = np.linspace(-1, 5, 10000)\n",
    "y_1 = -X_1**2 + 4*X_1 -1\n",
    "plt.plot(X_1,y_1)\n",
    "plt.xlabel('x')\n",
    "plt.ylabel('y(x)')\n",
    "plt.grid(True)"
   ]
  },
  {
   "cell_type": "markdown",
   "id": "618b29fd",
   "metadata": {},
   "source": [
    "## Ejercicio 2: Mini-Batch Gradient Descent\n",
    "Se tiene datos que responden a la función,\n",
    "$$ y = -(x-2)^2 + 3 + 0.2\\sin(16x) $$\n",
    "\n",
    "Se pretende encontrar  un polinomio predictor de segundo grado, cuyos parámetros iniciales son elegidos al azar,\n",
    "\n",
    "$$ \\hat{y} = x^2w_1 + xw_2 + w_3 $$\n",
    "\n",
    "En principio, cada parámetro se ajusta para cada muestra $i$ aplicando el algoritmo,\n",
    "\n",
    "$$ w_{i+1} = w_i - \\alpha \\frac{dL_i}{dw_i} $$\n",
    "\n",
    "siendo $L_i$ la función de pérdida en cada epochs, \n",
    "\n",
    "$$ L_i = (y_i - \\hat{y}_i)^2 $$\n",
    "\n",
    "Sin embargo, el método _mini-batch_ consiste en estimar cada parámetro ya no muestra por muestra sino por paquetes de muestras (se ve en detalle en los algortimos). Por lo que la función de pérdida será error cuadrático medio (_mean square error_) sobre cada batch de datos, \n",
    "\n",
    "$$ L_{b} = \\frac{1}{b}\\sum_{i=1}^{b}(y_i - \\hat{y})^2 $$\n",
    "\n",
    "siendo b la cantidad de muestras en un batch. A partir de esta última ecuación, cada parámetro o peso se calcula como,\n",
    "\n",
    "$$ w_{1_{i+1}} = w_{1_i} - \\left( \\frac{-2}{b} \\right) \\sum_{i=1}^{b} x_i^2 (y_i - \\hat{y}_i) $$\n",
    "\n",
    "$$ w_{2_{i+1}} = w_{2_i} - \\left( \\frac{-2}{b} \\right) \\sum_{i=1}^{b} x_i (y_i - \\hat{y}_i) $$\n",
    "\n",
    "$$ w_{3_{i+1}} = w_{3_i} - \\left( \\frac{-2}{b} \\right) \\sum_{i=1}^{b} (y_i - \\hat{y}_i) $$\n",
    "\n",
    "Finalmente, al finalizar la actualización de parámetros en cada mini-batch, se calcula el error cuadrático medio (_mean square error_) sobre el total de muestras $n$,\n",
    "\n",
    "$$ MSE = \\frac{1}{n}\\sum_{i=1}^{n}(y_i - \\hat{y})^2 $$\n",
    "\n",
    "### Hiperparámetros del optimizador\n",
    "POr lo presentado, los hiperarámetros del optimizador son:\n",
    "- El learning rate $\\alpha$.\n",
    "- La cantidad de epochs.\n",
    "- El tamaño de cada batch (_batch size_).\n",
    "\n",
    "### Construcción de dataset y funciones\n",
    "A continuación se comienza con la resolución del problema. Se arma un dataset sintético con 10000 muestras."
   ]
  },
  {
   "cell_type": "code",
   "execution_count": 6,
   "id": "5dfbd6c7",
   "metadata": {},
   "outputs": [],
   "source": [
    "# Número de muestras\n",
    "n = 10000\n",
    "X_2 = np.linspace(-1,5,n).reshape(-1,1)\n",
    "y_2 = -(X_2-2)**2 + 3 + 0.2*np.sin(16*X_2).reshape(-1,1)\n",
    "y_3 = -X_2**2 + 4*X_2 -1"
   ]
  },
  {
   "cell_type": "markdown",
   "id": "3a568a15",
   "metadata": {},
   "source": [
    "Se muestra el gráfico de la función para visualizar que se busca predecir con el polinomio de segundo grado"
   ]
  },
  {
   "cell_type": "code",
   "execution_count": 7,
   "id": "07a5f1da",
   "metadata": {},
   "outputs": [
    {
     "data": {
      "image/png": "[encoded data removed]",
      "text/plain": [
       "<Figure size 432x288 with 1 Axes>"
      ]
     },
     "metadata": {
      "needs_background": "light"
     },
     "output_type": "display_data"
    }
   ],
   "source": [
    "plt.plot(X_2,y_2)\n",
    "plt.xlabel('x')\n",
    "plt.ylabel('y(x)')\n",
    "plt.grid(True)"
   ]
  },
  {
   "cell_type": "markdown",
   "id": "c9ab9ec4",
   "metadata": {},
   "source": [
    "La función _sgd_mb_ realiza el cálculo de los pesos, de acuerdo a lo mostrado en la introducción teórica"
   ]
  },
  {
   "cell_type": "code",
   "execution_count": 8,
   "id": "41ec4a63",
   "metadata": {},
   "outputs": [],
   "source": [
    "def sgd_mb(X_train, y_train, W_0, lr, epochs, bs):\n",
    "    \"\"\"\n",
    "    shapes:\n",
    "        X_train = dataset (nxm)\n",
    "        y_train = label (nx1)\n",
    "        W_0 = vector de valores de parámetros iniciales (mx1)\n",
    "        lr: learning rate\n",
    "        epochs\n",
    "        b: batches\n",
    "    \"\"\"\n",
    "    # Cantidad total de muestras\n",
    "    n = X_train.shape[0]\n",
    "    \n",
    "    # Inicialización de los pesos\n",
    "    W = W_0\n",
    "    \n",
    "\n",
    "    # Inicialización del acumulador del cálculo del error cuádratico medio\n",
    "    MSE = []\n",
    "\n",
    "    \n",
    "    # Iteraciones según epochs\n",
    "    for i in range(epochs):        \n",
    "        \n",
    "        # Permutación de los datos\n",
    "        idx = np.random.permutation(X_train.shape[0])\n",
    "        X_train = X_train[idx]\n",
    "        y_train = y_train[idx]\n",
    "        \n",
    "        # Calculo del \"batch size\" de datos en función del número de \"batches\"\n",
    "        batch_size = int(len(X_train)/b)\n",
    "        \n",
    "        # Iteraciones sobre cada batch de datos\n",
    "        for j in range(0, len(X_train), batch_size):\n",
    "            end = j + batch_size if j + batch_size <= len(X_train) else len(X_train)\n",
    "            batch_X = X_train[j:end] # batch_size x m\n",
    "            batch_y = y_train[j:end].reshape(-1,1) # batch_size x 1\n",
    "            \n",
    "            # Cálculo de la predicción por cada batch\n",
    "            batch_pred = np.matmul(batch_X,W)\n",
    "            #Cálculo del error para todo el batch\n",
    "            Err = batch_y - batch_pred\n",
    "            \n",
    "            # Cálculo del gradiente para todo el batch\n",
    "            # La matriz batch_x ya tiene calculados los valores de x según ecuaciones mostradas\n",
    "            grad_sum = np.sum(Err*batch_X, axis=0) #1xm\n",
    "            grad_mul = -2/batch_size * grad_sum #1xm\n",
    "            gradient = grad_mul.reshape(-1,1)\n",
    "            \n",
    "            # Actualización de los pesos\n",
    "            W = W - lr*gradient\n",
    "            \n",
    "        # Cálculo del error cuadrático medio al terminar cada epock    \n",
    "        y_pred = np.matmul(X_train,W)\n",
    "        MSE.append(np.sum((y_train - y_pred) ** 2) / n)\n",
    "   \n",
    "    return MSE"
   ]
  },
  {
   "cell_type": "markdown",
   "id": "151b1093",
   "metadata": {},
   "source": [
    "### Parámetros iniciales"
   ]
  },
  {
   "cell_type": "markdown",
   "id": "56af70aa",
   "metadata": {},
   "source": [
    "Se arma una matriz a partir de las muestras de $X_2$ para operar de forma vectorizada con los parámetros del polinomio. Cada columna se corresponde con un parámetro $w$"
   ]
  },
  {
   "cell_type": "code",
   "execution_count": 9,
   "id": "86a5b41b",
   "metadata": {},
   "outputs": [
    {
     "data": {
      "text/plain": [
       "array([1., 1., 1., ..., 1., 1., 1.])"
      ]
     },
     "execution_count": 9,
     "metadata": {},
     "output_type": "execute_result"
    }
   ],
   "source": [
    "# Primer columna para w_1\n",
    "X_2p = (X_2[:,0]**2).reshape(-1,1)\n",
    "#Segunda columna para w_2\n",
    "X_2p = np.hstack((X_2p, X_2))\n",
    "#Tercer columna: se completa con 1 para w_3\n",
    "X_2p = np.hstack((X_2p, np.ones(len(X_2p)).reshape(-1,1)))\n",
    "X_2p[:,2]"
   ]
  },
  {
   "cell_type": "markdown",
   "id": "2457b4ca",
   "metadata": {},
   "source": [
    "Los valores iniciales de los pesos se toman de forma aleatoria, según una distribución uniforme.  "
   ]
  },
  {
   "cell_type": "code",
   "execution_count": 10,
   "id": "4228d314",
   "metadata": {},
   "outputs": [
    {
     "data": {
      "text/plain": [
       "(10000, 1)"
      ]
     },
     "execution_count": 10,
     "metadata": {},
     "output_type": "execute_result"
    }
   ],
   "source": [
    "# Cantidad de feature\n",
    "m = X_2p.shape[1]\n",
    "\n",
    "np.random.seed(5) \n",
    "W_0 = np.random.rand(m).reshape(-1,1) #mx1\n",
    "np.matmul(X_2p,W_0).shape"
   ]
  },
  {
   "cell_type": "markdown",
   "id": "8d5a4c61",
   "metadata": {},
   "source": [
    "## Resultados\n",
    "Se realizan dos evaluaciones\n",
    "- Tomando diferentes valores de _epochs_\n",
    "- Tomando diferentes valores de _batch size_ \n",
    "En ambos casos, se grafica la convergencia a partir de los cálculos de MSE. Se toma un valor fijo de $\\alpha=0.001$\n",
    "\n",
    "### Variación de epochs"
   ]
  },
  {
   "cell_type": "code",
   "execution_count": 11,
   "id": "58f7ebc0",
   "metadata": {},
   "outputs": [
    {
     "data": {
      "text/plain": [
       "Text(0, 0.5, 'MSE')"
      ]
     },
     "execution_count": 11,
     "metadata": {},
     "output_type": "execute_result"
    },
    {
     "data": {
      "image/png": "[encoded data removed]",
      "text/plain": [
       "<Figure size 864x576 with 1 Axes>"
      ]
     },
     "metadata": {
      "needs_background": "light"
     },
     "output_type": "display_data"
    }
   ],
   "source": [
    "# Learning rate\n",
    "alpha = 0.001\n",
    "# Epochs\n",
    "epochs = [10, 100, 500]\n",
    "# cantidad de batches\n",
    "b = 16\n",
    "eje_x = np.linspace(0,2000,2000)\n",
    "ax = plt.figure(figsize=(12,8))\n",
    "\n",
    "for k in range(len(epochs)):\n",
    "    epoch = epochs[k]\n",
    "    MSE = sgd_mb(X_2p, y_2, W_0, alpha, epoch, b)\n",
    "    plt.plot(MSE, label=r'$epchs=${}'.format(epoch))\n",
    "    plt.legend( fontsize=12, loc='center right')\n",
    "\n",
    "plt.xlabel('epoch', fontsize=14)\n",
    "plt.ylabel('MSE', fontsize=14)"
   ]
  },
  {
   "cell_type": "markdown",
   "id": "44505596",
   "metadata": {},
   "source": [
    "### Variación de cantidad de batch"
   ]
  },
  {
   "cell_type": "code",
   "execution_count": 12,
   "id": "8f26b7f0",
   "metadata": {},
   "outputs": [
    {
     "data": {
      "text/plain": [
       "Text(0, 0.5, 'MSE')"
      ]
     },
     "execution_count": 12,
     "metadata": {},
     "output_type": "execute_result"
    },
    {
     "data": {
      "image/png": "[encoded data removed]",
      "text/plain": [
       "<Figure size 864x576 with 1 Axes>"
      ]
     },
     "metadata": {
      "needs_background": "light"
     },
     "output_type": "display_data"
    }
   ],
   "source": [
    "# Epochs\n",
    "epochs = 500\n",
    "# Cantidad de batches\n",
    "bs = [4, 8, 16, 24]\n",
    "eje_x = np.linspace(0,2000,2000)\n",
    "ax = plt.figure(figsize=(12,8))\n",
    "\n",
    "for k in range(len(bs)):\n",
    "    b = bs[k]\n",
    "    MSE = sgd_mb(X_2p, y_2, W_0, alpha, epoch, b)\n",
    "    plt.plot(MSE, label=r'$batch=${}'.format(b))\n",
    "    plt.legend( fontsize=12, loc='center right')\n",
    "\n",
    "plt.xlabel('epoch', fontsize=14)\n",
    "plt.ylabel('MSE', fontsize=14)"
   ]
  },
  {
   "cell_type": "markdown",
   "id": "2a7e7d96",
   "metadata": {},
   "source": [
    "## Conclusiones\n",
    "La variación de epochs no produce cambios. Se conserva la tendencia de convergencia a medida que se incrementa la cantidad de iteraciones. \n",
    "En cuanto a la variación de la cantidad de batches, a medida que se incrementa su valor, se acelera la convergencia. "
   ]
  }
 ],
 "metadata": {
  "kernelspec": {
   "display_name": "Python 3 (ipykernel)",
   "language": "python",
   "name": "python3"
  },
  "language_info": {
   "codemirror_mode": {
    "name": "ipython",
    "version": 3
   },
   "file_extension": ".py",
   "mimetype": "text/x-python",
   "name": "python",
   "nbconvert_exporter": "python",
   "pygments_lexer": "ipython3",
   "version": "3.9.7"
  }
 },
 "nbformat": 4,
 "nbformat_minor": 5
}
