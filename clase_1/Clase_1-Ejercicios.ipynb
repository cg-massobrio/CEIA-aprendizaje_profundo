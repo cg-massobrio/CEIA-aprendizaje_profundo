{
 "cells": [
  {
   "cell_type": "markdown",
   "id": "638fb9c1",
   "metadata": {},
   "source": [
    "# Ejercicios clase 1: Resolución de la XOR aplicando Stochastic Gradient Descent\n",
    "La _disyunción exclusiva_ es un operador lógico representado como XOR. La tabla de verdad de este operador es la siguiente:\n",
    "\n",
    "| A | B | A - B |\n",
    "|---|---|-------|\n",
    "| V | V | F     |\n",
    "| V | F | V     |\n",
    "| F | V | V     |\n",
    "| F | F | F     |\n",
    "\n",
    "El modelo predictor resuelve un problema de regresión lineal para predecir XOR de la siguiente forma,\n",
    "\n",
    "$$ \\hat{y}_i = x_{i,1}w_1 + x_{I,2}w_2 + b $$\n",
    "siendo $i$ una muestra del dataset\n",
    "\n",
    "### Modelo de red neuronal\n",
    "El objetivo será obtener los coeficientes $w$ y $b$. Para ello se plantea una red neuronal de dos layers y tres neuronas, distribuidas bajo el siguiente esquema:\n",
    "- Layer 1: 2 neuronas.\n",
    "- Layer 2: 1 neurona.\n",
    "Cada neurona posee una función lineal que toma los datos de entrada,\n",
    "\n",
    "$$ z_{i,j}^{(l)} = x_{i,1}w_{j,1}^{(l)} + x_{I,2}w_{j,2}^{(l)} + b_{j}^{(l)} \\qquad j: número \\, de \\, neurona \\quad l: número \\, de \\, layer $$\n",
    "\n",
    "Y una función de activación, que en este caso será la sigmoidea,\n",
    "\n",
    "$$ a_{i,j}^{(l)} = \\sigma \\left(z_{i,j}^{(l)} \\right) = \\frac{1}{1 + e^{-z_{i,j}^{(l)}}}  $$\n",
    "\n",
    "Bajo este esquema, la cantidad de parámetros desconocidos se define como,\n",
    "\n",
    "$ p_d = o(m+1) $\n",
    "donde:\n",
    "- $o$: cantidad de neuronas. para este caso será $o=3$.\n",
    "- $m$: cantidad de features. En el problema de XOR $m=2$.  \n",
    "\n",
    "Por lo tanto serán nueve los parámetros desconocidos. \n",
    "\n",
    "Como se trata de un caso de regresión lineal, la última neurona no cuenta con función de activación. Su $z$ correspondiente será la predicción para la muestra procesada. \n",
    "\n",
    "Este proceso se denomina _forward_ y se repite para cada muestra del dataset.\n",
    "\n",
    "### Backpropagation\n",
    "En cada iteración se recalculan los parámetros desconocidos de la forma,\n",
    "\n",
    "$$ W = W - \\alpha\\frac{dL}{dW} $$\n",
    "\n",
    "Donde:\n",
    "- $W$: vector de mx1 que contiene todos los parámetros.\n",
    "- $\\alpha$: learning rate.\n",
    "\n",
    "Se define además a la función de pérdida (_Loss Function_) como,\n",
    "\n",
    "$$ L_i = (y_i - \\hat{y_i})^2 $$\n",
    "\n",
    "Por lo que se calculan las derivadas parciales de $L_i$ respecto de cada parámetro desconocido. En total serán nueve derivadas parciales a resolver. \n",
    "\n",
    "### Hiperparámetros\n",
    "Los hiperparámetros son aquellos elementos que hacen al diseño del modelo. En este son:\n",
    "- La cantidad de layers.\n",
    "- La cantidad de neuronas por layers.\n",
    "- El valor de $\\alpha$.\n",
    "\n",
    "### Stochastic Gradient Descent\n",
    "Debe definirse al vector $W$ previo a iniciar las iteraciones. En este caso será mediante valores random. \n",
    "\n",
    "A continuación se comienza con la resolución del problema"
   ]
  },
  {
   "cell_type": "markdown",
   "id": "6c0eb491",
   "metadata": {},
   "source": [
    "### Referencias\n",
    "$$ i: muestra(fila) \\, del \\, dataset \\qquad j: número \\, de \\, neurona \\quad l: número \\, de \\, layer $$\n",
    "\n",
    "### Predicción con los parámetros desconocidos\n",
    "$$ \\hat{y}_i = x_{i,1}^2w_1 + x_{I,2}w_2 + w_3$$\n",
    "\n",
    "### Función z de cada neurona: es el polinomio \n",
    "$$ z_{i,j}^{(l)} = x_{i,1}^2w_{j,1}^{(l)} + x_{i,2}w_{j,2}^{(l)} + w_{j,3}^{(l)} $$\n",
    "\n",
    "### Última neurona: no tiene función de activación por ser un caso de regresión\n",
    "$$ z_{i,1}^{(l)} = \\hat{y}_i $$"
   ]
  },
  {
   "cell_type": "markdown",
   "id": "0579fc2d",
   "metadata": {},
   "source": [
    "## Librerías necesarias"
   ]
  },
  {
   "cell_type": "code",
   "execution_count": 1,
   "id": "26a43a13",
   "metadata": {},
   "outputs": [],
   "source": [
    "import numpy as np\n",
    "import matplotlib.pyplot as plt"
   ]
  },
  {
   "cell_type": "code",
   "execution_count": 2,
   "id": "6c3ed306",
   "metadata": {},
   "outputs": [
    {
     "name": "stdout",
     "output_type": "stream",
     "text": [
      "Dataset X: \n",
      " [[1 0]\n",
      " [0 0]\n",
      " [1 0]\n",
      " [1 1]]\n",
      "Objetivo (label) y: \n",
      " [1 0 1 0]\n"
     ]
    }
   ],
   "source": [
    "#Dataset sintético\n",
    "rng = np.random.default_rng(3219)\n",
    "X_train = rng.integers(low=0, high=2, size=(4,2), dtype=np.int8)\n",
    "y_train = np.logical_xor(X_train[:,0], X_train[:,1]).astype(int) #mx1\n",
    "print('Dataset X: \\n', X_train)\n",
    "print('Objetivo (label) y: \\n', y_train)"
   ]
  },
  {
   "cell_type": "markdown",
   "id": "95c60227",
   "metadata": {},
   "source": [
    "## Funciones utilizadas\n",
    "Función sigmoidea"
   ]
  },
  {
   "cell_type": "code",
   "execution_count": 3,
   "id": "c013d0a7",
   "metadata": {},
   "outputs": [],
   "source": [
    "#Función sigmoid\n",
    "def sigmoid(x):                                        \n",
    "    return 1 / (1 + np.exp(-x))"
   ]
  },
  {
   "cell_type": "markdown",
   "id": "701530ea",
   "metadata": {},
   "source": [
    "En el proceso de backpropagation se necesita la derivada de la función sigmoidea, que puede escribirse como,\n",
    "\n",
    "$$ a_{i,j}^{(l)'} = \\sigma \\left(z_{i,j}^{(l)} \\right) \\left[1 - \\sigma \\left(z_{i,j}^{(l)} \\right) \\right] $$"
   ]
  },
  {
   "cell_type": "code",
   "execution_count": 4,
   "id": "a156905f",
   "metadata": {},
   "outputs": [],
   "source": [
    "#Función derivada sigmoid\n",
    "def der_sigmoid(x):                                        \n",
    "    return sigmoid(x)*(1-sigmoid(x))"
   ]
  },
  {
   "cell_type": "markdown",
   "id": "31656938",
   "metadata": {},
   "source": [
    "El error cuadrático medio (_mean square error_),\n",
    "\n",
    "$$ MSE = \\frac{1}{n}\\sum_{i=1}^{n}(y_i - \\hat{y})^2 $$"
   ]
  },
  {
   "cell_type": "code",
   "execution_count": 5,
   "id": "f06cdd5d",
   "metadata": {},
   "outputs": [],
   "source": [
    "def mse(y_label, y_pred,samples):\n",
    "    return np.sum((y_label - y_pred) ** 2) / samples"
   ]
  },
  {
   "cell_type": "code",
   "execution_count": 6,
   "id": "05923c82",
   "metadata": {},
   "outputs": [],
   "source": [
    "def sdg(X,y,W,O,alpha,epochs):\n",
    "    '''\n",
    "    X: dataset de entrenamiento.\n",
    "    y: label u objetivo.\n",
    "    W: valores iniciales de los parámetros desconicidos.\n",
    "    O: cantidad total de neuronas.\n",
    "    epochs: cantidad de iteraciones de entrenamiento\n",
    "    '''\n",
    "    \n",
    "    #Dimensiones X nxm\n",
    "    n = X.shape[0]\n",
    "    m = X.shape[1]\n",
    "    \n",
    "    #Se agrega una columna de 1 a X para los parámetros b\n",
    "    X_expand = np.hstack((X, np.ones(X.shape[0], dtype=np.int8).reshape(-1,1)))\n",
    "    \n",
    "    #Se construye un tensor de W a partir de la cantidad de neuronas\n",
    "    W_tensor = W.reshape(O,m+1,1) \n",
    "    \n",
    "    #Inicialización del acumulador del cálculo del error cuádratico medio\n",
    "    MSE = []\n",
    "    \n",
    "    for j in range(epochs):\n",
    "        #Inicialización del acumulador de la predicción por cada muestra\n",
    "        y_pred = []\n",
    "        for i in range(n):\n",
    "            #-----------\n",
    "            #Forward\n",
    "            #Layer 1\n",
    "            z_l1 = X_expand[i]@W_tensor[0:2,:,:]\n",
    "            a_l1 = sigmoid(z_l1)\n",
    "\n",
    "            #Layer 2\n",
    "            #Se agrega una fila de 1 a a_l1\n",
    "            a_l1_exp = np.vstack((a_l1, np.ones(a_l1.shape[1], dtype=np.int8).reshape(-1,1)))\n",
    "            z_l2 = np.transpose(a_l1_exp)@W_tensor[2,:,:]\n",
    "            y_pred.append(z_l2[0,0])\n",
    "\n",
    "            #---------------\n",
    "            #Backpropagation\n",
    "            Err = y[i] - y_pred[i]\n",
    "\n",
    "            #Layer 2\n",
    "            #Neurona 1\n",
    "            dLdW_2_1 = -2*Err*a_l1_exp\n",
    "\n",
    "            #Layer 1\n",
    "            #Neurona 1\n",
    "            dLdW_1_1 = -2*Err*W_tensor[2,0,:]*der_sigmoid(z_l1[0])*X_expand[i].reshape(m+1,1)\n",
    "            #Neurona 2\n",
    "            dLdW_1_2 = -2*Err*W_tensor[2,1,:]*der_sigmoid(z_l1[1])*X_expand[i].reshape(m+1,1)\n",
    "\n",
    "            dLdW = np.array([dLdW_1_1, dLdW_1_2, dLdW_2_1])\n",
    "            W_tensor = W_tensor - alpha*dLdW\n",
    "        MSE.append(mse(y,y_pred,n))\n",
    "    return MSE, W_tensor"
   ]
  },
  {
   "cell_type": "markdown",
   "id": "8d5a4c61",
   "metadata": {},
   "source": [
    "## Resultados\n",
    "Se realiza una evaluación tomando diferentes valores de $\\alpha$, graficando la convergencia a partir de los cálculos de MSE. "
   ]
  },
  {
   "cell_type": "code",
   "execution_count": 7,
   "id": "58f7ebc0",
   "metadata": {},
   "outputs": [
    {
     "data": {
      "text/plain": [
       "Text(0, 0.5, 'MSE')"
      ]
     },
     "execution_count": 7,
     "metadata": {},
     "output_type": "execute_result"
    },
    {
     "data": {
      "image/png": "[encoded data removed]",
      "text/plain": [
       "<Figure size 864x576 with 1 Axes>"
      ]
     },
     "metadata": {
      "needs_background": "light"
     },
     "output_type": "display_data"
    }
   ],
   "source": [
    "#Parámetros desconocidos\n",
    "#Cantidad de nueronas\n",
    "O = 3\n",
    "m = X_train.shape[1]\n",
    "#Cantidad de parámetros desconocidos. distribución random normal\n",
    "np.random.seed(5) \n",
    "W = np.random.randn(O*(m+1)).reshape(-1,1) #mx1\n",
    "\n",
    "alpha_l = [0.05, 0.1, 0.2, 0.3]\n",
    "epochs = 100\n",
    "#Se acumulan los parámetros obtenidos para cada valor de alpha\n",
    "W_tensor_train = []\n",
    "\n",
    "eje_x = np.linspace(0,epochs,epochs)\n",
    "ax = plt.figure(figsize=(12,8))\n",
    "\n",
    "for k in range(len(alpha_l)):\n",
    "    alpha = alpha_l[k]\n",
    "    MSE, W_tensor = sdg(X_train,y_train,W,O,alpha,epochs)\n",
    "    W_tensor_train.append(W_tensor)\n",
    "    plt.plot(eje_x,MSE, label=r'$\\alpha=${}'.format(alpha))\n",
    "    plt.legend( fontsize=12, loc='center right')\n",
    "plt.xlabel('epoch', fontsize=14)\n",
    "plt.ylabel('MSE', fontsize=14)"
   ]
  },
  {
   "cell_type": "markdown",
   "id": "3d26f5da",
   "metadata": {},
   "source": [
    "De los resultados obtenidos pueden concluirse que,\n",
    "- Se requiere un valor bajo de _epoch_ para que el modelo converja.\n",
    "- El mejor resultado de convergencia se obtuvo para $\\alpha=0.2$."
   ]
  },
  {
   "cell_type": "markdown",
   "id": "a19c3745",
   "metadata": {},
   "source": [
    "## Prueba\n",
    "Se pone a prueba los parámetros obtenidos en el entrenamiento. Primero se define la función _forward_ que calcula $\\hat{y}$ a partir de,\n",
    "- Un dataset de testeo.\n",
    "- El tensor $W$ obtenido durante el entrenamiento."
   ]
  },
  {
   "cell_type": "code",
   "execution_count": 8,
   "id": "03663a9a",
   "metadata": {},
   "outputs": [],
   "source": [
    "def forward(X,W_tensor):\n",
    "    n = X.shape[0]\n",
    "    #Se agrega una columna de 1 a X_train\n",
    "    X_expand = np.hstack((X, np.ones(X.shape[0], dtype=np.int8).reshape(-1,1)))\n",
    "    y_pred = []\n",
    "    for i in range(n):\n",
    "        #Layer 1\n",
    "        z_l1 = X_expand[i]@W_tensor[0:2,:,:]\n",
    "        a_l1 = sigmoid(z_l1)\n",
    "\n",
    "        #Layer 2\n",
    "        #Se agrega una fila de 1 a a_l1\n",
    "        a_l1_exp = np.vstack((a_l1, np.ones(a_l1.shape[1], dtype=np.int8).reshape(-1,1)))\n",
    "        z_l2 = np.transpose(a_l1_exp)@W_tensor[2,:,:]\n",
    "        y_pred.append(z_l2[0,0])\n",
    "    return y_pred"
   ]
  },
  {
   "cell_type": "markdown",
   "id": "f5393395",
   "metadata": {},
   "source": [
    "Se toman los valores de $W$ para $\\alpha=0.2$"
   ]
  },
  {
   "cell_type": "code",
   "execution_count": 9,
   "id": "71aed88c",
   "metadata": {},
   "outputs": [],
   "source": [
    "W_tensor_train_02 = W_tensor_train[2]"
   ]
  },
  {
   "cell_type": "markdown",
   "id": "25ae62dd",
   "metadata": {},
   "source": [
    "Se generan 4 dataset distintos con sus respectivos _label_ para evaluar la predicción. Para ello se calcula el MSE"
   ]
  },
  {
   "cell_type": "code",
   "execution_count": 10,
   "id": "5602eef5",
   "metadata": {},
   "outputs": [],
   "source": [
    "seeds = [38, 50, 61, 100]\n",
    "MSE_test = []\n",
    "\n",
    "for i in range(len(seeds)):\n",
    "    rng = np.random.default_rng(i)\n",
    "    X_test = rng.integers(low=0, high=2, size=(4,2), dtype=np.int8)\n",
    "    y_test = np.logical_xor(X_train[:,0], X_train[:,1]).astype(int) #mx1\n",
    "    y_pred_test = forward(X_test,W_tensor_train_02)\n",
    "    MSE_test.append(mse(y_test, y_pred_test, 4))"
   ]
  },
  {
   "cell_type": "markdown",
   "id": "94bc66f4",
   "metadata": {},
   "source": [
    "Se imprime el MSE para cada dataset de test"
   ]
  },
  {
   "cell_type": "code",
   "execution_count": 11,
   "id": "8d5e4e8b",
   "metadata": {},
   "outputs": [
    {
     "data": {
      "text/plain": [
       "[0.9569002143275228,\n",
       " 0.5837531103384296,\n",
       " 0.5837576541132257,\n",
       " 0.4999954982432523]"
      ]
     },
     "execution_count": 11,
     "metadata": {},
     "output_type": "execute_result"
    }
   ],
   "source": [
    "#Visualización de resultados\n",
    "MSE_test"
   ]
  },
  {
   "cell_type": "markdown",
   "id": "3dd1051f",
   "metadata": {},
   "source": [
    "### Conclusión\n",
    "Los resultados obtenidos al testear los parámetros desconocidos, no fueron buenos respecto al MSE alcanzado durante el entrenamiento. Da cuenta de que presenta un sesgo grande. "
   ]
  }
 ],
 "metadata": {
  "kernelspec": {
   "display_name": "Python 3 (ipykernel)",
   "language": "python",
   "name": "python3"
  },
  "language_info": {
   "codemirror_mode": {
    "name": "ipython",
    "version": 3
   },
   "file_extension": ".py",
   "mimetype": "text/x-python",
   "name": "python",
   "nbconvert_exporter": "python",
   "pygments_lexer": "ipython3",
   "version": "3.9.7"
  }
 },
 "nbformat": 4,
 "nbformat_minor": 5
}
