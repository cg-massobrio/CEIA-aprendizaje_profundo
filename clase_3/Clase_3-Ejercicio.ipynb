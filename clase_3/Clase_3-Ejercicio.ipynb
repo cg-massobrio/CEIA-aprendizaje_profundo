{
 "cells": [
  {
   "cell_type": "markdown",
   "metadata": {},
   "source": [
    "# Ejercicio clase 3: SGD implementando PyTorch\n",
    "Se resuelve el ejercicio 2 de la clase 2 empleando PyTorch. Se cuenta con un dataset sintético conformado a partir de la función,\n",
    "\n",
    "$$ y = -(x-2)^2 + 3 + 0.2\\sin(16x) $$\n",
    "\n",
    "Y se pretende encontrar  un polinomio predictor de segundo grado, cuyos parámetros iniciales son elegidos al azar,\n",
    "\n",
    "$$ \\hat{y} = w_1x^2 + w_2x + w_3 $$"
   ]
  },
  {
   "cell_type": "markdown",
   "metadata": {},
   "source": [
    "## Librerías necesarias"
   ]
  },
  {
   "cell_type": "code",
   "execution_count": 1,
   "metadata": {},
   "outputs": [],
   "source": [
    "import numpy as np\n",
    "import torch\n",
    "from torch.utils.data import DataLoader\n",
    "import torch.optim as optim\n",
    "import torch.nn as nn\n",
    "\n",
    "from matplotlib import pyplot as plt\n",
    "\n",
    "torch.set_printoptions(edgeitems=2, linewidth=75)\n",
    "\n"
   ]
  },
  {
   "cell_type": "markdown",
   "metadata": {},
   "source": [
    "## Construcción de dataset y funciones\n",
    "A continuación se comienza con la resolución del problema. Se arma un dataset sintético con $n=100000$ muestras"
   ]
  },
  {
   "cell_type": "code",
   "execution_count": 2,
   "metadata": {},
   "outputs": [],
   "source": [
    "n = 100000\n",
    "X = torch.linspace(-3, 7, n).view(-1, 1)\n",
    "y = -(X-2)**2 + 3 + 0.2*torch.sin(16*X).view(-1,1) "
   ]
  },
  {
   "cell_type": "markdown",
   "metadata": {},
   "source": [
    "Se muestra el gráfico de la función para visualizar que se busca predecir con el polinomio de segundo grado"
   ]
  },
  {
   "cell_type": "code",
   "execution_count": 3,
   "metadata": {},
   "outputs": [
    {
     "data": {
      "image/png": "[encoded data removed]",
      "text/plain": [
       "<Figure size 432x288 with 1 Axes>"
      ]
     },
     "metadata": {
      "needs_background": "light"
     },
     "output_type": "display_data"
    }
   ],
   "source": [
    "plt.plot(X,y)\n",
    "plt.xlabel('x')\n",
    "plt.ylabel('y(x)')\n",
    "plt.grid(True)"
   ]
  },
  {
   "cell_type": "markdown",
   "metadata": {},
   "source": [
    "### Funciones\n"
   ]
  },
  {
   "cell_type": "code",
   "execution_count": 4,
   "metadata": {},
   "outputs": [],
   "source": [
    "# Modelo\n",
    "def model(X, w_1, w_2, w_3):\n",
    "    '''\n",
    "    X: dataset\n",
    "    w_i: parámetros del polinomio predictor\n",
    "    '''\n",
    "    return w_1*X**2 + w_2*X + w_3"
   ]
  },
  {
   "cell_type": "code",
   "execution_count": 5,
   "metadata": {},
   "outputs": [],
   "source": [
    "# Función de pérdida\n",
    "def loss_fn(y_label, y_pred):\n",
    "    squared_diffs = (y_label - y_pred)**2\n",
    "    return squared_diffs.mean()"
   ]
  },
  {
   "cell_type": "code",
   "execution_count": 6,
   "metadata": {},
   "outputs": [],
   "source": [
    "# Error cuadrático medio\n",
    "def mse(y_label, y_pred,samples):\n",
    "    return torch.sum((y_label - y_pred) ** 2) / samples"
   ]
  },
  {
   "cell_type": "markdown",
   "metadata": {},
   "source": [
    "Función de entrenamiento"
   ]
  },
  {
   "cell_type": "code",
   "execution_count": 7,
   "metadata": {},
   "outputs": [],
   "source": [
    "def training_loop(n_epochs,  imp, optimizer, W, X_train, y_label):\n",
    "    '''\n",
    "    n_epochs: cantidad de iteraciones de entrenamiento.\n",
    "    imp: paso para la impresión de cada epoch durante entrenamiento.\n",
    "    optimizer: optimiazor a emplear, previamente definido.\n",
    "    W: tensor de parámetros iniciales con  requires_grad=True.\n",
    "    X_train: set de datos de entrenamiento.\n",
    "    y_label: objetivo a predecir.\n",
    "    '''\n",
    "       \n",
    "    # Inicialización del acumulador de la función de pérdida\n",
    "    L = []\n",
    "    \n",
    "    for epoch in range (1, n_epochs+1):\n",
    "        y_pred = model(X, *W)\n",
    "        loss = loss_fn(y_label, y_pred)\n",
    "        L.append(loss)\n",
    "\n",
    "        optimizer.zero_grad()\n",
    "        loss.backward()\n",
    "        optimizer.step()\n",
    "\n",
    "        if epoch <= 3 or epoch % imp == 0:\n",
    "            print('Epoch %d , Loss %f' % (epoch, float(loss)))\n",
    "    \n",
    "    return L, W"
   ]
  },
  {
   "cell_type": "markdown",
   "metadata": {},
   "source": [
    "## Pruebas\n",
    "Con _DataLoader_ se definen atributos sobre el dataset al momento del entrenamiento. Para este ejercicio se considerarán:\n",
    "- Tamaño del batch a emplear. Se tomará de 24, igual al ejercicio 2 de la clase 2.\n",
    "- Si se realiza o no una permutación de muestras en cada iteración (_epock_). "
   ]
  },
  {
   "cell_type": "code",
   "execution_count": 8,
   "metadata": {},
   "outputs": [],
   "source": [
    "X_train = DataLoader(X, batch_size=24, shuffle=True)"
   ]
  },
  {
   "cell_type": "markdown",
   "metadata": {},
   "source": [
    "\n",
    "Se definen los atributos que restan declarar. En ese sentido, el _learning rate_ a emplear será el mismo al empleado en el ejercicio 2 de la clase 2.\n",
    "Respecto a la cantidad de iteraciones, se tomará el mismo número que el empleado en el ejercicio mencionado, aunque ahora la capacidad de cálculo es mejor. Se hace a título de graficar y comparar. "
   ]
  },
  {
   "cell_type": "code",
   "execution_count": 9,
   "metadata": {},
   "outputs": [
    {
     "name": "stdout",
     "output_type": "stream",
     "text": [
      "Epoch 1 , Loss 1111.527954\n",
      "Epoch 2 , Loss 144.867615\n",
      "Epoch 3 , Loss 59.033386\n",
      "Epoch 30 , Loss 39.346535\n",
      "Epoch 60 , Loss 29.689308\n",
      "Epoch 90 , Loss 22.443995\n",
      "Epoch 120 , Loss 17.005581\n",
      "Epoch 150 , Loss 12.920989\n",
      "Epoch 180 , Loss 9.850902\n",
      "Epoch 210 , Loss 7.541199\n",
      "Epoch 240 , Loss 5.801549\n",
      "Epoch 270 , Loss 4.489392\n",
      "Epoch 300 , Loss 3.497942\n",
      "Epoch 330 , Loss 2.747202\n",
      "Epoch 360 , Loss 2.177227\n",
      "Epoch 390 , Loss 1.743115\n",
      "Epoch 420 , Loss 1.411191\n",
      "Epoch 450 , Loss 1.156226\n",
      "Epoch 480 , Loss 0.959296\n"
     ]
    }
   ],
   "source": [
    "# Epochs\n",
    "n_epochs = 500\n",
    "# Sencuencia de impresión\n",
    "imp = 30\n",
    "\n",
    "# Learning rate\n",
    "alpha = 0.001\n",
    "\n",
    "\n",
    "# Tensor de parámetros iniciales aleatorios\n",
    "torch.manual_seed(0)\n",
    "n_params = 3 #cantidad de parámetros\n",
    "W = torch.randn(3, requires_grad=True)\n",
    "#W = torch.tensor([1.0, 0.0], requires_grad=True)\n",
    "# Optimizador\n",
    "optimizer = optim.SGD([W], lr=alpha)\n",
    "\n",
    "# \n",
    "L,_ =training_loop(n_epochs, imp, optimizer, W, X_train, y)"
   ]
  },
  {
   "cell_type": "code",
   "execution_count": 10,
   "metadata": {},
   "outputs": [
    {
     "data": {
      "image/png": "[encoded data removed]",
      "text/plain": [
       "<Figure size 864x576 with 1 Axes>"
      ]
     },
     "metadata": {
      "needs_background": "light"
     },
     "output_type": "display_data"
    }
   ],
   "source": [
    "L_fig = [fl.item() for fl in L]\n",
    "\n",
    "plt.figure(figsize=(12,8))\n",
    "plt.plot(range(n_epochs), L_fig)\n",
    "plt.ylabel('Loss function')\n",
    "plt.xlabel('Epoch');"
   ]
  },
  {
   "cell_type": "markdown",
   "metadata": {},
   "source": [
    "## Conclusión\n",
    "Aunque inicialmente los parámetros derivan en un error muy grande, la convergencia es mucho más rápida que al aplicar el método SGD mini-bach sin PyTorch"
   ]
  }
 ],
 "metadata": {
  "kernelspec": {
   "display_name": "Python 3.9.7 ('base')",
   "language": "python",
   "name": "python3"
  },
  "language_info": {
   "codemirror_mode": {
    "name": "ipython",
    "version": 3
   },
   "file_extension": ".py",
   "mimetype": "text/x-python",
   "name": "python",
   "nbconvert_exporter": "python",
   "pygments_lexer": "ipython3",
   "version": "3.9.7"
  },
  "orig_nbformat": 4,
  "vscode": {
   "interpreter": {
    "hash": "6bf44611de5320027ffcc509146da1c4e380cb2b0b6030fbe523cc5ad1f7c3e8"
   }
  }
 },
 "nbformat": 4,
 "nbformat_minor": 2
}
